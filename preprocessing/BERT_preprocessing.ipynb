{
 "cells": [
  {
   "cell_type": "code",
   "execution_count": 4,
   "id": "11c023c0-7843-450b-9c3d-5eb82139718c",
   "metadata": {},
   "outputs": [],
   "source": [
    "import pandas as pd\n",
    "import re\n",
    "\n",
    "# 데이터 파일 경로\n",
    "input_file = '../data/training/training_data.csv'\n",
    "output_file = '../data/training/training_data_BERT.csv'\n",
    "\n",
    "data = pd.read_csv(input_file)\n",
    "\n",
    "# [original]과 [summary] 태그 제거하고 필요한 형태로 변환\n",
    "def transform_text(text):\n",
    "    original_match = re.search(r'\\[original\\](.*?)\\[\\/original\\]', text, re.DOTALL)\n",
    "    summary_match = re.search(r'\\[summary\\](.*?)\\[\\/summary\\]', text, re.DOTALL)\n",
    "    \n",
    "    if original_match and summary_match:\n",
    "        original_text = original_match.group(1).strip()\n",
    "        summary_text = summary_match.group(1).strip()\n",
    "        return f'[CLS] {original_text} [SEP] {summary_text} [SEP]'\n",
    "    else:\n",
    "        return None\n",
    "\n",
    "# 데이터프레임의 text 열 변환\n",
    "data['text'] = data['text'].apply(transform_text)\n",
    "\n",
    "# 변환된 데이터를 새로운 CSV 파일로 저장\n",
    "data.to_csv(output_file, index=False)\n",
    "\n"
   ]
  },
  {
   "cell_type": "code",
   "execution_count": 5,
   "id": "67b4d69e-418d-4e18-bc9e-e9e22f6c6d57",
   "metadata": {},
   "outputs": [],
   "source": [
    "# 데이터 파일 경로\n",
    "input_file = '../data/validation/validation_data.csv'\n",
    "output_file = '../data/validation/validation_data_BERT.csv'\n",
    "\n",
    "data = pd.read_csv(input_file)\n",
    "\n",
    "# [original]과 [summary] 태그 제거하고 필요한 형태로 변환\n",
    "def transform_text(text):\n",
    "    original_match = re.search(r'\\[original\\](.*?)\\[\\/original\\]', text, re.DOTALL)\n",
    "    summary_match = re.search(r'\\[summary\\](.*?)\\[\\/summary\\]', text, re.DOTALL)\n",
    "    \n",
    "    if original_match and summary_match:\n",
    "        original_text = original_match.group(1).strip()\n",
    "        summary_text = summary_match.group(1).strip()\n",
    "        return f'[CLS] {original_text} [SEP] {summary_text} [SEP]'\n",
    "    else:\n",
    "        return None\n",
    "\n",
    "# 데이터프레임의 text 열 변환\n",
    "data['text'] = data['text'].apply(transform_text)\n",
    "\n",
    "# 변환된 데이터를 새로운 CSV 파일로 저장\n",
    "data.to_csv(output_file, index=False)"
   ]
  },
  {
   "cell_type": "code",
   "execution_count": 6,
   "id": "381d86f3-9055-48ec-ad85-2b1852f3335d",
   "metadata": {},
   "outputs": [],
   "source": [
    "# 데이터 파일 경로\n",
    "input_file = '../data/test/test_data.csv'\n",
    "output_file = '../data/test/test_data_BERT.csv'\n",
    "\n",
    "data = pd.read_csv(input_file)\n",
    "\n",
    "# [original]과 [summary] 태그 제거하고 필요한 형태로 변환\n",
    "def transform_text(text):\n",
    "    original_match = re.search(r'\\[original\\](.*?)\\[\\/original\\]', text, re.DOTALL)\n",
    "    summary_match = re.search(r'\\[summary\\](.*?)\\[\\/summary\\]', text, re.DOTALL)\n",
    "    \n",
    "    if original_match and summary_match:\n",
    "        original_text = original_match.group(1).strip()\n",
    "        summary_text = summary_match.group(1).strip()\n",
    "        return f'[CLS] {original_text} [SEP] {summary_text} [SEP]'\n",
    "    else:\n",
    "        return None\n",
    "\n",
    "# 데이터프레임의 text 열 변환\n",
    "data['text'] = data['text'].apply(transform_text)\n",
    "\n",
    "# 변환된 데이터를 새로운 CSV 파일로 저장\n",
    "data.to_csv(output_file, index=False)"
   ]
  },
  {
   "cell_type": "code",
   "execution_count": null,
   "id": "300b3c2c-a588-4c8b-8a8d-179bb8e94dd0",
   "metadata": {},
   "outputs": [],
   "source": []
  }
 ],
 "metadata": {
  "kernelspec": {
   "display_name": "Python 3 (ipykernel)",
   "language": "python",
   "name": "python3"
  },
  "language_info": {
   "codemirror_mode": {
    "name": "ipython",
    "version": 3
   },
   "file_extension": ".py",
   "mimetype": "text/x-python",
   "name": "python",
   "nbconvert_exporter": "python",
   "pygments_lexer": "ipython3",
   "version": "3.11.8"
  }
 },
 "nbformat": 4,
 "nbformat_minor": 5
}
